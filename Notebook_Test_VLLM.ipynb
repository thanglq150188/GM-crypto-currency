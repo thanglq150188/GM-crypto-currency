{
 "cells": [
  {
   "cell_type": "code",
   "execution_count": 1,
   "id": "4e7b81d8-557b-4743-899c-c80e2a030b3f",
   "metadata": {},
   "outputs": [],
   "source": [
    "import argparse\n",
    "import torch\n",
    "import json\n",
    "\n",
    "from transformers import (\n",
    "    AutoTokenizer,\n",
    "    BitsAndBytesConfig\n",
    ")\n",
    "\n",
    "import intent_trade_functions as itf\n",
    "from prompter import PromptManager\n",
    "from validator import validate_function_call_schema\n",
    "\n",
    "from utils import (\n",
    "    print_nous_text_art,\n",
    "    inference_logger,\n",
    "    get_assistant_message,\n",
    "    get_chat_template,\n",
    "    validate_and_extract_tool_calls\n",
    ")"
   ]
  },
  {
   "cell_type": "code",
   "execution_count": 2,
   "id": "cc8dd6a3-59b3-488b-bef1-84e01bf22570",
   "metadata": {},
   "outputs": [],
   "source": [
    "prompter = PromptManager()"
   ]
  },
  {
   "cell_type": "code",
   "execution_count": 3,
   "id": "6dbcfc56-ef30-4c17-b2a2-925743176af6",
   "metadata": {},
   "outputs": [
    {
     "name": "stderr",
     "output_type": "stream",
     "text": [
      "Special tokens have been added in the vocabulary, make sure the associated word embeddings are fine-tuned or trained.\n",
      "You set `add_prefix_space`. The tokenizer needs to be converted from the slow tokenizers\n",
      "Special tokens have been added in the vocabulary, make sure the associated word embeddings are fine-tuned or trained.\n"
     ]
    }
   ],
   "source": [
    "tokenizer = AutoTokenizer.from_pretrained(\"NousResearch/Hermes-2-Pro-Mistral-7B\", trust_remote_code=True)\n",
    "tokenizer.pad_token = tokenizer.eos_token\n",
    "tokenizer.padding_side = \"left\"\n",
    "\n",
    "if tokenizer.chat_template is None:\n",
    "    print(\"No chat template defined, getting chat_template...\")\n",
    "    tokenizer.chat_template = get_chat_template(chat_template)"
   ]
  },
  {
   "cell_type": "code",
   "execution_count": 7,
   "id": "47a4419b-dcab-4ce5-992a-1d2f2b249d70",
   "metadata": {},
   "outputs": [],
   "source": [
    "chat = [{\"role\": \"user\", \"content\": \"Can you check my balance for me, my telegram id is 4327489\"}]\n",
    "tools = itf.get_openai_tools()\n",
    "prompt = prompter.generate_prompt(chat, tools, num_fewshot=None)"
   ]
  },
  {
   "cell_type": "code",
   "execution_count": 8,
   "id": "4fe7ec38-27bf-40e4-8c23-dac749d88aa6",
   "metadata": {},
   "outputs": [],
   "source": [
    "template_prompt = tokenizer.apply_chat_template(\n",
    "    prompt,\n",
    "    add_generation_prompt=True,\n",
    "    tokenize=False\n",
    ")"
   ]
  },
  {
   "cell_type": "code",
   "execution_count": 9,
   "id": "0b676d55-bcbc-4395-a5d4-952a878e58c4",
   "metadata": {},
   "outputs": [
    {
     "name": "stderr",
     "output_type": "stream",
     "text": [
      "2024-04-19:07:49:00,751 INFO     [_client.py:1026] HTTP Request: POST http://localhost:8000/v1/completions \"HTTP/1.1 200 OK\"\n"
     ]
    },
    {
     "name": "stdout",
     "output_type": "stream",
     "text": [
      "<tool_call>\n",
      "{\"arguments\": {\"telegram_id\": \"4327489\"}, \"name\": \"get_portfolio\"}\n",
      "</tool_call>\n"
     ]
    }
   ],
   "source": [
    "from openai import OpenAI\n",
    "\n",
    "# Modify OpenAI's API key and API base to use vLLM's API server.\n",
    "openai_api_key = \"EMPTY\"\n",
    "openai_api_base = \"http://localhost:8000/v1\"\n",
    "client = OpenAI(\n",
    "    api_key=openai_api_key,\n",
    "    base_url=openai_api_base,\n",
    ")\n",
    "completion = client.completions.create(\n",
    "    model='NousResearch/Hermes-2-Pro-Mistral-7B',\n",
    "    prompt=template_prompt,\n",
    "    max_tokens=1500,\n",
    "    temperature=0.0,\n",
    "    stream=True\n",
    ")\n",
    "\n",
    "for chunk in completion:\n",
    "    print(chunk.choices[0].text, end='')"
   ]
  },
  {
   "cell_type": "code",
   "execution_count": null,
   "id": "2bc09959-decb-4844-945a-f3ce44a8de57",
   "metadata": {},
   "outputs": [],
   "source": []
  }
 ],
 "metadata": {
  "kernelspec": {
   "display_name": "thanglq2",
   "language": "python",
   "name": "thanglq2"
  },
  "language_info": {
   "codemirror_mode": {
    "name": "ipython",
    "version": 3
   },
   "file_extension": ".py",
   "mimetype": "text/x-python",
   "name": "python",
   "nbconvert_exporter": "python",
   "pygments_lexer": "ipython3",
   "version": "3.10.12"
  }
 },
 "nbformat": 4,
 "nbformat_minor": 5
}
