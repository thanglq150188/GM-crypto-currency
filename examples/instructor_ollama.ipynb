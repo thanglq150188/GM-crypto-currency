{
 "cells": [
  {
   "cell_type": "markdown",
   "metadata": {},
   "source": [
    "install ollama and instructor\n",
    "```\n",
    "pip install instructor\n",
    "```\n",
    "Ollama download instruction are available here \n",
    "https://ollama.com/download\n",
    "\n",
    "Download the heremes pro model \n",
    "Heremes pro is latest model from NousResearch. Somebody already uploaded to ollama model library\n",
    "\n",
    "```\n",
    "ollama pull adrienbrault/nous-hermes2pro:Q8_0\n",
    "```\n",
    "And then you can use the model in the code below\n",
    "\n"
   ]
  },
  {
   "cell_type": "code",
   "execution_count": 1,
   "metadata": {},
   "outputs": [
    {
     "name": "stdout",
     "output_type": "stream",
     "text": [
      "name='Jason' age=30\n"
     ]
    }
   ],
   "source": [
    "from openai import OpenAI\n",
    "from pydantic import BaseModel\n",
    "import instructor\n",
    "\n",
    "\n",
    "class UserDetail(BaseModel):\n",
    "    name: str\n",
    "    age: int\n",
    "\n",
    "\n",
    "# enables `response_model` in create call\n",
    "client = instructor.patch(\n",
    "    OpenAI(\n",
    "        base_url=\"http://localhost:11434/v1\",\n",
    "        api_key=\"ollama\",  # required, but unused\n",
    "    ),\n",
    "    mode=instructor.Mode.JSON,\n",
    ")\n",
    "\n",
    "user = client.chat.completions.create(\n",
    "    model=\"adrienbrault/nous-hermes2pro:Q8_0\",\n",
    "    messages=[\n",
    "        {\n",
    "            \"role\": \"user\",\n",
    "            \"content\": \"Jason is 30 years old\",\n",
    "        }\n",
    "    ],\n",
    "    response_model=UserDetail,\n",
    ")\n",
    "\n",
    "print(user)\n",
    "#> name='Jason' age=30"
   ]
  },
  {
   "cell_type": "markdown",
   "metadata": {},
   "source": [
    "you can use instructor to generate the desire response model response model is used to validate the response. \n",
    "\n",
    "\n",
    "\n",
    "And we can use the same for variety of task to ensure the model is wokring with existing system\n"
   ]
  },
  {
   "cell_type": "code",
   "execution_count": 2,
   "metadata": {},
   "outputs": [
    {
     "name": "stdout",
     "output_type": "stream",
     "text": [
      "name='John Smith' age=28\n",
      "name='Mary Johnson' age=35\n",
      "name='William Anderson' age=41\n",
      "name='Ava Taylor' age=26\n",
      "name='Samuel Brown' age=53\n"
     ]
    }
   ],
   "source": [
    "### synthatitc data\n",
    "from typing import Iterable\n",
    "\n",
    "def generate_fake_users(count: int) -> Iterable[UserDetail]:\n",
    "    return client.chat.completions.create(\n",
    "        model=\"adrienbrault/nous-hermes2pro:Q8_0\",\n",
    "        response_model=Iterable[UserDetail],\n",
    "        messages=[\n",
    "            {\"role\": \"user\", \"content\": f\"Generate a {count} synthetic users\"},\n",
    "        ],\n",
    "    )\n",
    "\n",
    "\n",
    "for user in generate_fake_users(5):\n",
    "    print(user)"
   ]
  },
  {
   "cell_type": "code",
   "execution_count": 3,
   "metadata": {},
   "outputs": [
    {
     "data": {
      "text/plain": [
       "{'properties': {'question': {'title': 'Question', 'type': 'string'},\n",
       "  'answer': {'title': 'Answer', 'type': 'string'},\n",
       "  'citations': {'items': {'type': 'string'},\n",
       "   'title': 'Citations',\n",
       "   'type': 'array'}},\n",
       " 'required': ['question', 'answer', 'citations'],\n",
       " 'title': 'QuestionAnswer',\n",
       " 'type': 'object'}"
      ]
     },
     "execution_count": 3,
     "metadata": {},
     "output_type": "execute_result"
    }
   ],
   "source": [
    "from typing import List\n",
    "class QuestionAnswer(BaseModel):\n",
    "    question: str\n",
    "    answer: str\n",
    "    citations: List[str]\n",
    "QuestionAnswer.model_json_schema()"
   ]
  },
  {
   "cell_type": "code",
   "execution_count": 4,
   "metadata": {},
   "outputs": [],
   "source": [
    "\n",
    "def ask_ai(question: str, context: str) -> QuestionAnswer:\n",
    "    return client.chat.completions.create(\n",
    "        model=\"adrienbrault/nous-hermes2pro:Q8_0\",\n",
    "        temperature=0.1,\n",
    "        response_model=QuestionAnswer,\n",
    "        messages=[\n",
    "            {\n",
    "                \"role\": \"system\",\n",
    "                \"content\": \"You are a world class algorithm to answer questions with correct and exact citations.\",\n",
    "            },\n",
    "            {\"role\": \"user\", \"content\": f\"{context}\"},\n",
    "            {\"role\": \"user\", \"content\": f\"Question: {question}\"},\n",
    "        ],\n",
    "        validation_context={\"text_chunk\": context},\n",
    "    )"
   ]
  },
  {
   "cell_type": "code",
   "execution_count": 5,
   "metadata": {},
   "outputs": [],
   "source": [
    "question = \"What did the author do during college?\"\n",
    "context = \"\"\"\n",
    "My name is Jason Liu, and I grew up in Toronto Canada but I was born in China.\n",
    "I went to an arts high school but in university I studied Computational Mathematics and physics.\n",
    "As part of coop I worked at many companies including Stitchfix, Facebook.\n",
    "I also started the Data Science club at the University of Waterloo and I was the president of the club for 2 years.\n",
    "\"\"\"\n",
    "\n",
    "response = ask_ai(question, context)"
   ]
  },
  {
   "cell_type": "code",
   "execution_count": 6,
   "metadata": {},
   "outputs": [
    {
     "data": {
      "text/plain": [
       "'During college, the author studied Computational Mathematics and physics and worked at many companies including Stitchfix and Facebook. They also started the Data Science club at the University of Waterloo and served as its president for 2 years.'"
      ]
     },
     "metadata": {},
     "output_type": "display_data"
    }
   ],
   "source": [
    "from IPython.display import display\n",
    "display(response.answer)\n"
   ]
  },
  {
   "cell_type": "code",
   "execution_count": 7,
   "metadata": {},
   "outputs": [
    {
     "data": {
      "text/plain": [
       "['My name is Jason Liu, and I grew up in Toronto Canada but I was born in China.\\nI went to an arts high school but in university I studied Computational Mathematics and physics.\\nAs part of coop I worked at many companies including Stitchfix, Facebook. \\nI also started the Data Science club at the University of Waterloo and I was the president of the club for 2 years.']"
      ]
     },
     "metadata": {},
     "output_type": "display_data"
    }
   ],
   "source": [
    "display(response.citations)"
   ]
  },
  {
   "cell_type": "code",
   "execution_count": 9,
   "metadata": {},
   "outputs": [],
   "source": [
    "question1 = \"Where was John born?\"\n",
    "context1 = \"\"\"\n",
    "John Doe is a software engineer who was born in New York, USA. \n",
    "He studied Computer Science at the Massachusetts Institute of Technology. \n",
    "During his studies, he interned at Google and Microsoft. \n",
    "He also founded the Artificial Intelligence club at his university and served as its president for three years.\n",
    "\"\"\"\n",
    "\n",
    "\n",
    "question2 = \"What did Emily study in university?\"\n",
    "context2 = \"\"\"\n",
    "Emily Smith is a data scientist from London, England. \n",
    "She attended the University of Cambridge where she studied Statistics and Machine Learning. \n",
    "She interned at IBM and Amazon during her summer breaks. \n",
    "Emily was also the head of the Women in Tech society at her university.\n",
    "\"\"\"\n",
    "\n",
    "question3 = \"Which companies did Robert intern at?\"\n",
    "context3 = \"\"\"\n",
    "Robert Johnson, originally from Sydney, Australia, is a renowned cybersecurity expert. \n",
    "He studied Information Systems at the University of Melbourne. \n",
    "Robert interned at several cybersecurity firms including NortonLifeLock and McAfee. \n",
    "He was also the leader of the Cybersecurity club at his university.\n",
    "\"\"\"\n",
    "\n",
    "\n",
    "question4 = \"What club did Alice start at her university?\"\n",
    "context4 = \"\"\"\n",
    "Alice Williams, a native of Dublin, Ireland, is a successful web developer. \n",
    "She studied Software Engineering at Trinity College Dublin. \n",
    "Alice interned at several tech companies including Shopify and Squarespace. \n",
    "She started the Web Development club at her university and was its president for two years.\n",
    "\"\"\"\n",
    "\n",
    "\n",
    "question5 = \"What did Michael study in high school?\"\n",
    "context5 = \"\"\"\n",
    "Michael Brown is a game developer from Tokyo, Japan. \n",
    "He attended a specialized high school where he studied Game Design. \n",
    "He later attended the University of Tokyo where he studied Computer Science. \n",
    "Michael interned at Sony and Nintendo during his university years. \n",
    "He also started the Game Developers club at his university.\n",
    "\"\"\""
   ]
  },
  {
   "cell_type": "code",
   "execution_count": 10,
   "metadata": {},
   "outputs": [
    {
     "data": {
      "text/plain": [
       "'Where was John born?'"
      ]
     },
     "metadata": {},
     "output_type": "display_data"
    },
    {
     "data": {
      "text/plain": [
       "'John Doe was born in New York, USA.'"
      ]
     },
     "metadata": {},
     "output_type": "display_data"
    },
    {
     "data": {
      "text/plain": [
       "['John Doe is a software engineer who was born in New York, USA.']"
      ]
     },
     "metadata": {},
     "output_type": "display_data"
    },
    {
     "name": "stdout",
     "output_type": "stream",
     "text": [
      "\n",
      "\n",
      "\n"
     ]
    },
    {
     "data": {
      "text/plain": [
       "'What did Emily study in university?'"
      ]
     },
     "metadata": {},
     "output_type": "display_data"
    },
    {
     "data": {
      "text/plain": [
       "'Emily studied Statistics and Machine Learning at the University of Cambridge.'"
      ]
     },
     "metadata": {},
     "output_type": "display_data"
    },
    {
     "data": {
      "text/plain": [
       "['Emily Smith is a data scientist from London, England. She attended the University of Cambridge where she studied Statistics and Machine Learning.']"
      ]
     },
     "metadata": {},
     "output_type": "display_data"
    },
    {
     "name": "stdout",
     "output_type": "stream",
     "text": [
      "\n",
      "\n",
      "\n"
     ]
    },
    {
     "data": {
      "text/plain": [
       "'Which companies did Robert intern at?'"
      ]
     },
     "metadata": {},
     "output_type": "display_data"
    },
    {
     "data": {
      "text/plain": [
       "'NortonLifeLock and McAfee.'"
      ]
     },
     "metadata": {},
     "output_type": "display_data"
    },
    {
     "data": {
      "text/plain": [
       "['Robert Johnson, originally from Sydney, Australia, is a renowned cybersecurity expert. He studied Information Systems at the University of Melbourne. Robert interned at several cybersecurity firms including NortonLifeLock and McAfee. He was also the leader of the Cybersecurity club at his university.']"
      ]
     },
     "metadata": {},
     "output_type": "display_data"
    },
    {
     "name": "stdout",
     "output_type": "stream",
     "text": [
      "\n",
      "\n",
      "\n"
     ]
    },
    {
     "data": {
      "text/plain": [
       "'What club did Alice start at her university?'"
      ]
     },
     "metadata": {},
     "output_type": "display_data"
    },
    {
     "data": {
      "text/plain": [
       "'Alice started the Web Development club at her university.'"
      ]
     },
     "metadata": {},
     "output_type": "display_data"
    },
    {
     "data": {
      "text/plain": [
       "['Alice Williams, a native of Dublin, Ireland, is a successful web developer. She studied Software Engineering at Trinity College Dublin. Alice interned at several tech companies including Shopify and Squarespace. She started the Web Development club at her university and was its president for two years.']"
      ]
     },
     "metadata": {},
     "output_type": "display_data"
    },
    {
     "name": "stdout",
     "output_type": "stream",
     "text": [
      "\n",
      "\n",
      "\n"
     ]
    },
    {
     "data": {
      "text/plain": [
       "'What did Michael study in high school?'"
      ]
     },
     "metadata": {},
     "output_type": "display_data"
    },
    {
     "data": {
      "text/plain": [
       "'Michael studied Game Design in high school.'"
      ]
     },
     "metadata": {},
     "output_type": "display_data"
    },
    {
     "data": {
      "text/plain": [
       "['Michael Brown is a game developer from Tokyo, Japan. He attended a specialized high school where he studied Game Design.']"
      ]
     },
     "metadata": {},
     "output_type": "display_data"
    },
    {
     "name": "stdout",
     "output_type": "stream",
     "text": [
      "\n",
      "\n",
      "\n"
     ]
    }
   ],
   "source": [
    "for question, context in [\n",
    "    (question1, context1),\n",
    "    (question2, context2),\n",
    "    (question3, context3),\n",
    "    (question4, context4),\n",
    "    (question5, context5),\n",
    "]:\n",
    "    response = ask_ai(question, context)\n",
    "    display(question)\n",
    "    display(response.answer)\n",
    "    display(response.citations)\n",
    "    print(\"\\n\\n\")"
   ]
  },
  {
   "cell_type": "code",
   "execution_count": null,
   "metadata": {},
   "outputs": [],
   "source": []
  }
 ],
 "metadata": {
  "kernelspec": {
   "display_name": "hf",
   "language": "python",
   "name": "python3"
  },
  "language_info": {
   "codemirror_mode": {
    "name": "ipython",
    "version": 3
   },
   "file_extension": ".py",
   "mimetype": "text/x-python",
   "name": "python",
   "nbconvert_exporter": "python",
   "pygments_lexer": "ipython3",
   "version": "3.10.13"
  }
 },
 "nbformat": 4,
 "nbformat_minor": 2
}
