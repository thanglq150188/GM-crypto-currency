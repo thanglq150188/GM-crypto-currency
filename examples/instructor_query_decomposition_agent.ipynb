{
 "cells": [
  {
   "cell_type": "markdown",
   "metadata": {},
   "source": [
    "install ollama and instructor\n",
    "```\n",
    "pip install instructor\n",
    "```\n",
    "Ollama download instruction are available here \n",
    "https://ollama.com/download\n",
    "\n",
    "Download the heremes pro model \n",
    "Heremes pro is latest model from NousResearch. Somebody already uploaded to ollama model library\n",
    "\n",
    "```\n",
    "ollama pull adrienbrault/nous-hermes2pro:Q8_0\n",
    "```\n",
    "And then you can use the model in the code below\n",
    "\n"
   ]
  },
  {
   "cell_type": "code",
   "execution_count": 51,
   "metadata": {},
   "outputs": [],
   "source": [
    "from openai import OpenAI\n",
    "from pydantic import BaseModel\n",
    "import instructor\n",
    "import json"
   ]
  },
  {
   "cell_type": "code",
   "execution_count": 3,
   "metadata": {},
   "outputs": [],
   "source": [
    "# enables `response_model` in create call\n",
    "client = instructor.patch(\n",
    "    OpenAI(\n",
    "        base_url=\"http://localhost:11434/v1\",\n",
    "        api_key=\"ollama\",  # required, but unused\n",
    "    ),\n",
    "    mode=instructor.Mode.JSON,\n",
    ")"
   ]
  },
  {
   "cell_type": "code",
   "execution_count": 2,
   "metadata": {},
   "outputs": [
    {
     "data": {
      "text/plain": [
       "{'properties': {'question': {'title': 'Question', 'type': 'string'},\n",
       "  'answer': {'title': 'Answer', 'type': 'string'},\n",
       "  'citations': {'items': {'type': 'string'},\n",
       "   'title': 'Citations',\n",
       "   'type': 'array'}},\n",
       " 'required': ['question', 'answer', 'citations'],\n",
       " 'title': 'QuestionAnswer',\n",
       " 'type': 'object'}"
      ]
     },
     "execution_count": 2,
     "metadata": {},
     "output_type": "execute_result"
    }
   ],
   "source": [
    "from typing import List\n",
    "class QuestionAnswer(BaseModel):\n",
    "    question: str\n",
    "    answer: str\n",
    "    citations: List[str]\n",
    "QuestionAnswer.model_json_schema()"
   ]
  },
  {
   "cell_type": "code",
   "execution_count": 32,
   "metadata": {},
   "outputs": [],
   "source": [
    "\n",
    "def ask_agent(question: str, context: str) -> QuestionAnswer:\n",
    "    messages=[\n",
    "            {\n",
    "                \"role\": \"system\",\n",
    "                \"content\": \"You are a world class agentic framework to answer questions with correct and exact citations.\",\n",
    "            },\n",
    "            {\"role\": \"user\", \"content\": f\"{context}\"},\n",
    "            {\"role\": \"user\", \"content\": f\"Question: {question}\"},\n",
    "        ]\n",
    "    return client.chat.completions.create(\n",
    "        model=\"adrienbrault/nous-hermes2pro:Q4_0\",\n",
    "        temperature=0.1,\n",
    "        response_model=QuestionAnswer,\n",
    "        messages=messages,\n",
    "    )"
   ]
  },
  {
   "cell_type": "code",
   "execution_count": 44,
   "metadata": {},
   "outputs": [
    {
     "data": {
      "text/plain": [
       "{'properties': {'scratchpad': {'title': 'Scratchpad', 'type': 'string'},\n",
       "  'sub_questions': {'items': {'type': 'string'},\n",
       "   'title': 'Sub Questions',\n",
       "   'type': 'array'}},\n",
       " 'required': ['scratchpad', 'sub_questions'],\n",
       " 'title': 'SelfReflection',\n",
       " 'type': 'object'}"
      ]
     },
     "execution_count": 44,
     "metadata": {},
     "output_type": "execute_result"
    }
   ],
   "source": [
    "from typing import List\n",
    "class SelfReflection(BaseModel):\n",
    "    scratchpad: str\n",
    "    sub_questions: List[str]\n",
    "SelfReflection.model_json_schema()"
   ]
  },
  {
   "cell_type": "code",
   "execution_count": 58,
   "metadata": {},
   "outputs": [],
   "source": [
    "from concurrent.futures import ThreadPoolExecutor\n",
    "\n",
    "def ask_ai(question: str) -> SelfReflection:\n",
    "    messages=[\n",
    "            {\n",
    "                \"role\": \"system\",\n",
    "                \"content\": \"You are a world class agentic framework to decompose a given question into 5 sub-questions to help collect evidences for final answer. You must plan your query step-by-step inside the <scratchpad></scratchpad> tags\",\n",
    "            },\n",
    "            {\"role\": \"user\", \"content\": f\"{question}\"},\n",
    "        ]\n",
    "    return client.chat.completions.create(\n",
    "        model=\"adrienbrault/nous-hermes2pro:Q4_0\",\n",
    "        temperature=0.1,\n",
    "        response_model=SelfReflection,\n",
    "        messages=messages,\n",
    "    ), messages\n",
    "\n",
    "def self_reflection_loop(question: str) -> QuestionAnswer:\n",
    "    response, messages = ask_ai(question)\n",
    "    \n",
    "    agent_calls = \"\"\n",
    "    for query in response.sub_questions:\n",
    "        agent_calls += f\"<agent>\\n{query}\\n</agent>\\n\"\n",
    "\n",
    "    content = f\"<scratchpad> {response.scratchpad} </scratchpad>\\n\"\n",
    "    content += agent_calls\n",
    "    messages.append({\n",
    "        \"role\": \"assistant\",\n",
    "        \"content\": content\n",
    "    })\n",
    "\n",
    "    context = \"\"\n",
    "\n",
    "    with ThreadPoolExecutor() as executor:\n",
    "        futures = []\n",
    "\n",
    "        for query in response.sub_questions:\n",
    "            future = executor.submit(ask_agent, query, context)\n",
    "            futures.append(future)\n",
    "\n",
    "        agent_messages = [] \n",
    "        for i in range(len(futures)):\n",
    "            result = futures[i].result()\n",
    "\n",
    "            agent_messages.append(\n",
    "                {\n",
    "                    \"role\": f\"agent-{i}\",\n",
    "                    \"content\": response.sub_questions[i]\n",
    "                }\n",
    "            )\n",
    "            agent_messages.append(\n",
    "                {\n",
    "                    \"role\": f\"agent-{i}-response\",\n",
    "                    \"content\": result.answer\n",
    "                }\n",
    "            )\n",
    "            context += f\"<agent id={i}>\\n\"\n",
    "            context += f\"sub_query: {response.sub_questions[i]}\\n\"\n",
    "            context += f\"answer: {result.answer}\\n\"\n",
    "            context += f\"</agent>\\n\"\n",
    "    print(context)\n",
    "    messages.append({\n",
    "        \"role\": \"agents\",\n",
    "        \"content\": agent_messages\n",
    "    })\n",
    "    final_answer = ask_agent(question, context)\n",
    "    messages.append({\n",
    "        \"role\": \"assistant\",\n",
    "        \"content\": final_answer.answer\n",
    "    })\n",
    "    return final_answer, messages"
   ]
  },
  {
   "cell_type": "code",
   "execution_count": 59,
   "metadata": {},
   "outputs": [
    {
     "name": "stdout",
     "output_type": "stream",
     "text": [
      "<agent id=0>\n",
      "sub_query: In which book or story can Jay Gatsby be found?\n",
      "answer: Jay Gatsby can be found in the book 'The Great Gatsby'.\n",
      "</agent>\n",
      "<agent id=1>\n",
      "sub_query: Who is the author of the work featuring Jay Gatsby?\n",
      "answer: The author of the work featuring Jay Gatsby is F. Scott Fitzgerald.\n",
      "</agent>\n",
      "<agent id=2>\n",
      "sub_query: What is the full name and background of Jay Gatsby?\n",
      "answer: Jay Gatsby, full name James Gatz, was a fictional character in F. Scott Fitzgerald's 1925 novel, The Great Gatsby. He came from an impoverished background and gained wealth through his involvement in the underworld during World War I.\n",
      "</agent>\n",
      "<agent id=3>\n",
      "sub_query: What is the main character's relationship with Jay Gatsby?\n",
      "answer: The main character, Nick Carraway, is a friend and narrator of the story. He lives next door to Jay Gatsby and becomes closely acquainted with him throughout the novel.\n",
      "</agent>\n",
      "<agent id=4>\n",
      "sub_query: How does Jay Gatsby's past influence his actions in the story?\n",
      "answer: Jay Gatsby's past, particularly his love for Daisy Buchanan and his desire to recreate the past, heavily influences his actions throughout the story. He becomes obsessed with regaining Daisy's affection and reclaiming the idealized version of their past relationship, leading him to manipulate and deceive others in pursuit of this goal.\n",
      "</agent>\n",
      "\n"
     ]
    }
   ],
   "source": [
    "question = \"Who is Jay Gatsby?\"\n",
    "response, messages = self_reflection_loop(question)"
   ]
  },
  {
   "cell_type": "code",
   "execution_count": 60,
   "metadata": {},
   "outputs": [
    {
     "data": {
      "text/plain": [
       "\"Jay Gatsby is a fictional character in F. Scott Fitzgerald's 1925 novel, The Great Gatsby. He comes from an impoverished background and gained wealth through his involvement in the underworld during World War I.\""
      ]
     },
     "execution_count": 60,
     "metadata": {},
     "output_type": "execute_result"
    }
   ],
   "source": [
    "response.answer"
   ]
  },
  {
   "cell_type": "code",
   "execution_count": 61,
   "metadata": {},
   "outputs": [
    {
     "name": "stdout",
     "output_type": "stream",
     "text": [
      "[{'role': 'system', 'content': \"You are a world class agentic framework to decompose a given question into 5 sub-questions to help collect evidences for final answer. You must plan your query step-by-step inside the <scratchpad></scratchpad> tags\\n\\n\\nAs a genius expert, your task is to understand the content and provide\\nthe parsed objects in json that match the following json_schema:\\n\\n\\n{'properties': {'scratchpad': {'title': 'Scratchpad', 'type': 'string'}, 'sub_questions': {'items': {'type': 'string'}, 'title': 'Sub Questions', 'type': 'array'}}, 'required': ['scratchpad', 'sub_questions'], 'title': 'SelfReflection', 'type': 'object'}\\n\\nMake sure to return an instance of the JSON, not the schema itself\\n\"}, {'role': 'user', 'content': 'Who is Jay Gatsby?'}, {'role': 'assistant', 'content': \"<scratchpad> Who is Jay Gatsby? </scratchpad>\\n<agent>\\nIn which book or story can Jay Gatsby be found?\\n</agent>\\n<agent>\\nWho is the author of the work featuring Jay Gatsby?\\n</agent>\\n<agent>\\nWhat is the full name and background of Jay Gatsby?\\n</agent>\\n<agent>\\nWhat is the main character's relationship with Jay Gatsby?\\n</agent>\\n<agent>\\nHow does Jay Gatsby's past influence his actions in the story?\\n</agent>\\n\"}, {'role': 'agents', 'content': [{'role': 'agent-0', 'content': 'In which book or story can Jay Gatsby be found?'}, {'role': 'agent-0-response', 'content': \"Jay Gatsby can be found in the book 'The Great Gatsby'.\"}, {'role': 'agent-1', 'content': 'Who is the author of the work featuring Jay Gatsby?'}, {'role': 'agent-1-response', 'content': 'The author of the work featuring Jay Gatsby is F. Scott Fitzgerald.'}, {'role': 'agent-2', 'content': 'What is the full name and background of Jay Gatsby?'}, {'role': 'agent-2-response', 'content': \"Jay Gatsby, full name James Gatz, was a fictional character in F. Scott Fitzgerald's 1925 novel, The Great Gatsby. He came from an impoverished background and gained wealth through his involvement in the underworld during World War I.\"}, {'role': 'agent-3', 'content': \"What is the main character's relationship with Jay Gatsby?\"}, {'role': 'agent-3-response', 'content': 'The main character, Nick Carraway, is a friend and narrator of the story. He lives next door to Jay Gatsby and becomes closely acquainted with him throughout the novel.'}, {'role': 'agent-4', 'content': \"How does Jay Gatsby's past influence his actions in the story?\"}, {'role': 'agent-4-response', 'content': \"Jay Gatsby's past, particularly his love for Daisy Buchanan and his desire to recreate the past, heavily influences his actions throughout the story. He becomes obsessed with regaining Daisy's affection and reclaiming the idealized version of their past relationship, leading him to manipulate and deceive others in pursuit of this goal.\"}]}, {'role': 'assistant', 'content': \"Jay Gatsby is a fictional character in F. Scott Fitzgerald's 1925 novel, The Great Gatsby. He comes from an impoverished background and gained wealth through his involvement in the underworld during World War I.\"}]\n"
     ]
    }
   ],
   "source": [
    "print(messages)"
   ]
  },
  {
   "cell_type": "code",
   "execution_count": 63,
   "metadata": {},
   "outputs": [
    {
     "name": "stdout",
     "output_type": "stream",
     "text": [
      "[\n",
      "  {\n",
      "    \"role\": \"system\",\n",
      "    \"content\": \"You are a world class agentic framework to decompose a given question into 5 sub-questions to help collect evidences for final answer. You must plan your query step-by-step inside the <scratchpad></scratchpad> tags\\n\\n\\nAs a genius expert, your task is to understand the content and provide\\nthe parsed objects in json that match the following json_schema:\\n\\n\\n{'properties': {'scratchpad': {'title': 'Scratchpad', 'type': 'string'}, 'sub_questions': {'items': {'type': 'string'}, 'title': 'Sub Questions', 'type': 'array'}}, 'required': ['scratchpad', 'sub_questions'], 'title': 'SelfReflection', 'type': 'object'}\\n\\nMake sure to return an instance of the JSON, not the schema itself\\n\"\n",
      "  },\n",
      "  {\n",
      "    \"role\": \"user\",\n",
      "    \"content\": \"Who is Jay Gatsby?\"\n",
      "  },\n",
      "  {\n",
      "    \"role\": \"assistant\",\n",
      "    \"content\": \"<scratchpad> Who is Jay Gatsby? </scratchpad>\\n<agent>\\nIn which book or story can Jay Gatsby be found?\\n</agent>\\n<agent>\\nWho is the author of the work featuring Jay Gatsby?\\n</agent>\\n<agent>\\nWhat is the full name and background of Jay Gatsby?\\n</agent>\\n<agent>\\nWhat is the main character's relationship with Jay Gatsby?\\n</agent>\\n<agent>\\nHow does Jay Gatsby's past influence his actions in the story?\\n</agent>\\n\"\n",
      "  },\n",
      "  {\n",
      "    \"role\": \"agents\",\n",
      "    \"content\": [\n",
      "      {\n",
      "        \"role\": \"agent-0\",\n",
      "        \"content\": \"In which book or story can Jay Gatsby be found?\"\n",
      "      },\n",
      "      {\n",
      "        \"role\": \"agent-0-response\",\n",
      "        \"content\": \"Jay Gatsby can be found in the book 'The Great Gatsby'.\"\n",
      "      },\n",
      "      {\n",
      "        \"role\": \"agent-1\",\n",
      "        \"content\": \"Who is the author of the work featuring Jay Gatsby?\"\n",
      "      },\n",
      "      {\n",
      "        \"role\": \"agent-1-response\",\n",
      "        \"content\": \"The author of the work featuring Jay Gatsby is F. Scott Fitzgerald.\"\n",
      "      },\n",
      "      {\n",
      "        \"role\": \"agent-2\",\n",
      "        \"content\": \"What is the full name and background of Jay Gatsby?\"\n",
      "      },\n",
      "      {\n",
      "        \"role\": \"agent-2-response\",\n",
      "        \"content\": \"Jay Gatsby, full name James Gatz, was a fictional character in F. Scott Fitzgerald's 1925 novel, The Great Gatsby. He came from an impoverished background and gained wealth through his involvement in the underworld during World War I.\"\n",
      "      },\n",
      "      {\n",
      "        \"role\": \"agent-3\",\n",
      "        \"content\": \"What is the main character's relationship with Jay Gatsby?\"\n",
      "      },\n",
      "      {\n",
      "        \"role\": \"agent-3-response\",\n",
      "        \"content\": \"The main character, Nick Carraway, is a friend and narrator of the story. He lives next door to Jay Gatsby and becomes closely acquainted with him throughout the novel.\"\n",
      "      },\n",
      "      {\n",
      "        \"role\": \"agent-4\",\n",
      "        \"content\": \"How does Jay Gatsby's past influence his actions in the story?\"\n",
      "      },\n",
      "      {\n",
      "        \"role\": \"agent-4-response\",\n",
      "        \"content\": \"Jay Gatsby's past, particularly his love for Daisy Buchanan and his desire to recreate the past, heavily influences his actions throughout the story. He becomes obsessed with regaining Daisy's affection and reclaiming the idealized version of their past relationship, leading him to manipulate and deceive others in pursuit of this goal.\"\n",
      "      }\n",
      "    ]\n",
      "  },\n",
      "  {\n",
      "    \"role\": \"assistant\",\n",
      "    \"content\": \"Jay Gatsby is a fictional character in F. Scott Fitzgerald's 1925 novel, The Great Gatsby. He comes from an impoverished background and gained wealth through his involvement in the underworld during World War I.\"\n",
      "  }\n",
      "]\n"
     ]
    }
   ],
   "source": [
    "print(json.dumps(messages, indent=2))"
   ]
  },
  {
   "cell_type": "code",
   "execution_count": null,
   "metadata": {},
   "outputs": [],
   "source": []
  }
 ],
 "metadata": {
  "kernelspec": {
   "display_name": "func-call-demo",
   "language": "python",
   "name": "python3"
  },
  "language_info": {
   "codemirror_mode": {
    "name": "ipython",
    "version": 3
   },
   "file_extension": ".py",
   "mimetype": "text/x-python",
   "name": "python",
   "nbconvert_exporter": "python",
   "pygments_lexer": "ipython3",
   "version": "3.12.2"
  }
 },
 "nbformat": 4,
 "nbformat_minor": 2
}
