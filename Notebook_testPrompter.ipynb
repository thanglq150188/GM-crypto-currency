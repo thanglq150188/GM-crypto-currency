{
 "cells": [
  {
   "cell_type": "code",
   "execution_count": 1,
   "id": "be6cd518-a1ac-4464-8525-7defe916f1be",
   "metadata": {},
   "outputs": [],
   "source": [
    "import datetime\n",
    "from pydantic import BaseModel\n",
    "from typing import Dict\n",
    "from schema import FunctionCall\n",
    "from utils import (\n",
    "    get_fewshot_examples\n",
    ")\n",
    "import yaml\n",
    "import json\n",
    "import os"
   ]
  },
  {
   "cell_type": "code",
   "execution_count": 2,
   "id": "578ce326-d3d0-418c-baf2-dfa4ce0f6677",
   "metadata": {},
   "outputs": [],
   "source": [
    "class PromptSchema(BaseModel):\n",
    "    Role: str\n",
    "    Objective: str\n",
    "    Tools: str\n",
    "    Examples: str\n",
    "    Schema: str\n",
    "    Instructions: str "
   ]
  },
  {
   "cell_type": "code",
   "execution_count": 7,
   "id": "7f4b21e9-43c7-4dda-88cc-5516e934f5ce",
   "metadata": {},
   "outputs": [],
   "source": [
    "def format_yaml_prompt(prompt_schema: PromptSchema, variables: Dict) -> str:\n",
    "    formatted_prompt = \"\"\n",
    "    for field, value in prompt_schema.dict().items():\n",
    "        if field == \"Examples\" and variables.get(\"examples\") is None:\n",
    "            continue\n",
    "        formatted_value = value.format(**variables)\n",
    "        if field == \"Instructions\":\n",
    "            formatted_prompt += f\"{formatted_value}\"\n",
    "        else:\n",
    "            formatted_value = formatted_value.replace(\"\\n\", \" \")\n",
    "            formatted_prompt += f\"{formatted_value}\"\n",
    "    return formatted_prompt"
   ]
  },
  {
   "cell_type": "code",
   "execution_count": 8,
   "id": "a43abc75-6a19-4e7b-94a8-7bf19aee8fdb",
   "metadata": {},
   "outputs": [],
   "source": [
    "def read_yaml_file(file_path: str) -> PromptSchema:\n",
    "    with open(file_path, 'r') as file:\n",
    "        yaml_content = yaml.safe_load(file)\n",
    "    \n",
    "    prompt_schema = PromptSchema(\n",
    "        Role=yaml_content.get('Role', ''),\n",
    "        Objective=yaml_content.get('Objective', ''),\n",
    "        Tools=yaml_content.get('Tools', ''),\n",
    "        Examples=yaml_content.get('Examples', ''),\n",
    "        Schema=yaml_content.get('Schema', ''),\n",
    "        Instructions=yaml_content.get('Instructions', ''),\n",
    "    )\n",
    "    return prompt_schema"
   ]
  },
  {
   "cell_type": "code",
   "execution_count": 9,
   "id": "3ea9c698-7fe0-40f0-84c0-d4e266f3fef2",
   "metadata": {},
   "outputs": [],
   "source": [
    "prompt_path = os.path.join('prompt_assets', 'sys_prompt.yml')\n",
    "prompt_schema = read_yaml_file(prompt_path)"
   ]
  },
  {
   "cell_type": "code",
   "execution_count": 17,
   "id": "b3ada9c4-bbee-40e5-8e22-4d962ee1c84b",
   "metadata": {},
   "outputs": [
    {
     "name": "stdout",
     "output_type": "stream",
     "text": [
      "{'Examples': 'Here are some example usage of functions:\\n{examples}\\n',\n",
      " 'Instructions': \"At the very first turn you don't have <tool_results> so you \"\n",
      "                 \"shouldn't not make up the results.\\n\"\n",
      "                 'Please keep a running summary with analysis of previous '\n",
      "                 'function results and summaries from previous iterations.\\n'\n",
      "                 'Do not stop calling functions until the task has been '\n",
      "                 \"accomplished or you've reached max iteration of 10.\\n\"\n",
      "                 'Calling multiple functions at once can overload the system '\n",
      "                 'and increase cost so call one function at a time please.\\n'\n",
      "                 'If you plan to continue with analysis, always call another '\n",
      "                 'function.\\n'\n",
      "                 'For each function call return a valid json object (using '\n",
      "                 'doulbe quotes) with function name and arguments within '\n",
      "                 '<tool_call></tool_call> XML tags as follows:\\n'\n",
      "                 '<tool_call>\\n'\n",
      "                 '{{\"arguments\": <args-dict>, \"name\": <function-name>}}\\n'\n",
      "                 '</tool_call>\\n',\n",
      " 'Objective': 'You may use agentic frameworks for reasoning and planning to '\n",
      "              'help with user query.\\n'\n",
      "              'Please call a function and wait for function results to be '\n",
      "              'provided to you in the next iteration.\\n'\n",
      "              \"Don't make assumptions about what values to plug into function \"\n",
      "              'arguments.\\n'\n",
      "              'Once you have called a function, results will be fed back to '\n",
      "              'you within <tool_response></tool_response> XML tags.\\n'\n",
      "              \"Don't make assumptions about tool results if <tool_response> \"\n",
      "              \"XML tags are not present since function hasn't been executed \"\n",
      "              'yet.\\n'\n",
      "              'Analyze the data once you get the results and call another '\n",
      "              'function.\\n'\n",
      "              'At each iteration please continue adding the your analysis to '\n",
      "              'previous summary.\\n'\n",
      "              'Your final response should directly answer the user query with '\n",
      "              'an anlysis or summary of the results of function calls.\\n',\n",
      " 'Role': 'You are a function calling AI agent with self-recursion.\\n'\n",
      "         'You can call only one function at a time and analyse data you get '\n",
      "         'from function response.\\n'\n",
      "         'You are provided with function signatures within <tools></tools> XML '\n",
      "         'tags.\\n'\n",
      "         'The current date is: {date}.\\n',\n",
      " 'Schema': 'Use the following pydantic model json schema for each tool call '\n",
      "           'you will make:\\n'\n",
      "           '{schema}\\n',\n",
      " 'Tools': 'Here are the available tools:\\n'\n",
      "          '<tools> {tools} </tools>\\n'\n",
      "          \"If the provided function signatures doesn't have the function you \"\n",
      "          'must call, you may write executable python code in markdown syntax '\n",
      "          'and call code_interpreter() function as follows:\\n'\n",
      "          '<tool_call>\\n'\n",
      "          '{{\"arguments\": {{\"code_markdown\": <python-code>, \"name\": '\n",
      "          '\"code_interpreter\"}}}}\\n'\n",
      "          '</tool_call>\\n'\n",
      "          'Make sure that the json object above with code markdown block is '\n",
      "          'parseable with json.loads() and the XML block with XML '\n",
      "          'ElementTree.\\n'}\n"
     ]
    }
   ],
   "source": [
    "from pprint import pprint\n",
    "import json\n",
    "\n",
    "pprint(json.loads(prompt_schema.json()))"
   ]
  },
  {
   "cell_type": "code",
   "execution_count": 18,
   "id": "cf45b929-00b6-4dd7-9b24-552838fc3e4d",
   "metadata": {},
   "outputs": [],
   "source": [
    "schema_json = json.loads(FunctionCall.schema_json())"
   ]
  },
  {
   "cell_type": "code",
   "execution_count": 19,
   "id": "ffd11a02-fb0a-40a2-abfd-bc64b4000f07",
   "metadata": {},
   "outputs": [
    {
     "data": {
      "text/plain": [
       "{'properties': {'arguments': {'title': 'Arguments', 'type': 'object'},\n",
       "  'name': {'title': 'Name', 'type': 'string'}},\n",
       " 'required': ['arguments', 'name'],\n",
       " 'title': 'FunctionCall',\n",
       " 'type': 'object'}"
      ]
     },
     "execution_count": 19,
     "metadata": {},
     "output_type": "execute_result"
    }
   ],
   "source": [
    "schema_json"
   ]
  },
  {
   "cell_type": "code",
   "execution_count": 20,
   "id": "81d429a4-39f2-4e45-a162-3de8892bc00f",
   "metadata": {},
   "outputs": [],
   "source": [
    "variables = {\n",
    "    \"date\": datetime.date.today(),\n",
    "    \"tools\": [],\n",
    "    \"examples\": [],\n",
    "    \"schema\": schema_json\n",
    "}\n",
    "sys_prompt = format_yaml_prompt(prompt_schema, variables)"
   ]
  },
  {
   "cell_type": "code",
   "execution_count": 23,
   "id": "c1f3ddf6-4588-472f-84dd-6ae2e70769b1",
   "metadata": {},
   "outputs": [
    {
     "name": "stdout",
     "output_type": "stream",
     "text": [
      "You are a function calling AI agent with self-recursion. You can call only one function at a time and analyse data you get from function response. You are provided with function signatures within <tools></tools> XML tags. The current date is: 2024-04-19. You may use agentic frameworks for reasoning and planning to help with user query. Please call a function and wait for function results to be provided to you in the next iteration. Don't make assumptions about what values to plug into function arguments. Once you have called a function, results will be fed back to you within <tool_response></tool_response> XML tags. Don't make assumptions about tool results if <tool_response> XML tags are not present since function hasn't been executed yet. Analyze the data once you get the results and call another function. At each iteration please continue adding the your analysis to previous summary. Your final response should directly answer the user query with an anlysis or summary of the results of function calls. Here are the available tools: <tools> [] </tools> If the provided function signatures doesn't have the function you must call, you may write executable python code in markdown syntax and call code_interpreter() function as follows: <tool_call> {\"arguments\": {\"code_markdown\": <python-code>, \"name\": \"code_interpreter\"}} </tool_call> Make sure that the json object above with code markdown block is parseable with json.loads() and the XML block with XML ElementTree. Here are some example usage of functions: [] Use the following pydantic model json schema for each tool call you will make: {'properties': {'arguments': {'title': 'Arguments', 'type': 'object'}, 'name': {'title': 'Name', 'type': 'string'}}, 'required': ['arguments', 'name'], 'title': 'FunctionCall', 'type': 'object'} At the very first turn you don't have <tool_results> so you shouldn't not make up the results.\n",
      "Please keep a running summary with analysis of previous function results and summaries from previous iterations.\n",
      "Do not stop calling functions until the task has been accomplished or you've reached max iteration of 10.\n",
      "Calling multiple functions at once can overload the system and increase cost so call one function at a time please.\n",
      "If you plan to continue with analysis, always call another function.\n",
      "For each function call return a valid json object (using doulbe quotes) with function name and arguments within <tool_call></tool_call> XML tags as follows:\n",
      "<tool_call>\n",
      "{\"arguments\": <args-dict>, \"name\": <function-name>}\n",
      "</tool_call>\n",
      "\n"
     ]
    }
   ],
   "source": [
    "print(sys_prompt)"
   ]
  },
  {
   "cell_type": "code",
   "execution_count": null,
   "id": "4c907e36-c520-4434-8ba5-c4bf99820887",
   "metadata": {},
   "outputs": [],
   "source": []
  }
 ],
 "metadata": {
  "kernelspec": {
   "display_name": "thanglq2",
   "language": "python",
   "name": "thanglq2"
  },
  "language_info": {
   "codemirror_mode": {
    "name": "ipython",
    "version": 3
   },
   "file_extension": ".py",
   "mimetype": "text/x-python",
   "name": "python",
   "nbconvert_exporter": "python",
   "pygments_lexer": "ipython3",
   "version": "3.10.12"
  }
 },
 "nbformat": 4,
 "nbformat_minor": 5
}
